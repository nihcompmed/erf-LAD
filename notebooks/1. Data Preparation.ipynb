{
 "cells": [
  {
   "cell_type": "markdown",
   "id": "closing-liberty",
   "metadata": {},
   "source": [
    "# Data preparation"
   ]
  },
  {
   "cell_type": "code",
   "execution_count": 1,
   "id": "informed-basement",
   "metadata": {},
   "outputs": [],
   "source": [
    "import sys\n",
    "sys.path.insert(0, '../functions/')\n",
    "\n",
    "from imputation import *\n",
    "from data_prep import *"
   ]
  },
  {
   "cell_type": "markdown",
   "id": "freelance-contribution",
   "metadata": {},
   "source": [
    "## Make global test samples"
   ]
  },
  {
   "cell_type": "code",
   "execution_count": 2,
   "id": "spanish-sitting",
   "metadata": {},
   "outputs": [],
   "source": [
    "# cells_te = np.random.choice(6078, 608, replace=False)\n",
    "# with open('./pickles/test_cells.pkl', 'wb') as f:\n",
    "#     pickle.dump(cells_te, f)"
   ]
  },
  {
   "cell_type": "markdown",
   "id": "heard-catch",
   "metadata": {},
   "source": [
    "## Missing data imputation"
   ]
  },
  {
   "cell_type": "code",
   "execution_count": 3,
   "id": "conditional-mailman",
   "metadata": {},
   "outputs": [
    {
     "name": "stdout",
     "output_type": "stream",
     "text": [
      "# of cells:  6078 \n",
      "# of genes x 6:  594\n"
     ]
    }
   ],
   "source": [
    "raw_data = np.loadtxt('../data/dmel_data.txt').T\n",
    "gene_exp = np.copy(raw_data[:,3:])\n",
    "n_cell, n_gene = gene_exp.shape\n",
    "print('# of cells: ', n_cell, '\\n# of genes x 6: ', n_gene)\n"
   ]
  },
  {
   "cell_type": "code",
   "execution_count": 4,
   "id": "cathedral-equity",
   "metadata": {},
   "outputs": [],
   "source": [
    "# complete_all = ([int(x) - 1 for x in open('data/indices_complete.txt','r').readline().split()])\n",
    "# comp_ind = list(map(int, list((np.array(complete_all)[::6]-3)/6)))\n",
    "\n",
    "# tr_data = np.vstack([gene_exp[:, i::6] for i in range(6)])\n",
    "# data_complete = imputation(tr_data, comp_ind)\n",
    "# np.savetxt('data/data_complete.txt', data_complete)"
   ]
  },
  {
   "cell_type": "markdown",
   "id": "genuine-craft",
   "metadata": {},
   "source": [
    "## Imputation Verification\n",
    "The computations were carried out using swarm. The materials are in ./HPC/1. Imputation/"
   ]
  },
  {
   "cell_type": "markdown",
   "id": "neural-general",
   "metadata": {},
   "source": [
    "## Make .npy files\n",
    "This section creates .npy files necessary to carry out the computations included in /HPC/"
   ]
  },
  {
   "cell_type": "code",
   "execution_count": 5,
   "id": "approved-constant",
   "metadata": {},
   "outputs": [],
   "source": [
    "data_all = np.loadtxt('../data/data_complete.txt')\n",
    "all_bin = np.vsplit(data_all, 6)\n",
    "all_init = np.vstack([all_bin[i] for i in range(5)])\n",
    "all_diff = np.vstack([all_bin[i+1]-all_bin[i] for i in range(5)])\n",
    "\n",
    "quad = make_quad(all_init)"
   ]
  },
  {
   "cell_type": "code",
   "execution_count": 6,
   "id": "younger-graham",
   "metadata": {},
   "outputs": [],
   "source": [
    "with open('../pickles/test_cells.pkl', 'rb') as f:\n",
    "     cells_te = pickle.load(f)\n",
    "        \n",
    "te = np.hstack([cells_te+(6078*i) for i in range(5)])\n",
    "quad_te = quad[te]\n",
    "np.save('../data/quad_te', quad_te)\n",
    "\n",
    "X_init = np.copy(all_init[te])\n",
    "np.save('../data/X_init', X_init)\n",
    "\n",
    "y_te = np.copy(all_diff[te])\n",
    "np.save('../data/y_te', y_te)\n",
    "\n",
    "ya = X_init + y_te\n",
    "np.save('../data/ya', ya)\n",
    "\n",
    "\n",
    "cells_tv = np.sort(np.delete(range(6078), cells_te))\n",
    "tv = np.sort(np.hstack([cells_tv+(6078*i) for i in range(5)]))\n",
    "\n",
    "quad_tv = quad[tv]\n",
    "np.save('../data/quad_tv', quad_tv)\n",
    "\n",
    "y_tv = all_diff[tv]\n",
    "np.save('../data/y_tv', y_tv)"
   ]
  }
 ],
 "metadata": {
  "kernelspec": {
   "display_name": "Python 3",
   "language": "python",
   "name": "python3"
  },
  "language_info": {
   "codemirror_mode": {
    "name": "ipython",
    "version": 3
   },
   "file_extension": ".py",
   "mimetype": "text/x-python",
   "name": "python",
   "nbconvert_exporter": "python",
   "pygments_lexer": "ipython3",
   "version": "3.8.8"
  },
  "toc": {
   "base_numbering": 1,
   "nav_menu": {},
   "number_sections": true,
   "sideBar": true,
   "skip_h1_title": false,
   "title_cell": "Table of Contents",
   "title_sidebar": "Contents",
   "toc_cell": false,
   "toc_position": {},
   "toc_section_display": true,
   "toc_window_display": false
  }
 },
 "nbformat": 4,
 "nbformat_minor": 5
}
