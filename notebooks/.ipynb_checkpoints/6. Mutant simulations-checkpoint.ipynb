{
 "cells": [
  {
   "cell_type": "markdown",
   "id": "supposed-browser",
   "metadata": {},
   "source": [
    "# Pair-rule gene mutant simulations"
   ]
  },
  {
   "cell_type": "code",
   "execution_count": 12,
   "id": "accepted-bhutan",
   "metadata": {},
   "outputs": [],
   "source": [
    "import sys\n",
    "sys.path.insert(0, '../functions/')\n",
    "\n",
    "from imputation import *\n",
    "from data_prep import *"
   ]
  },
  {
   "cell_type": "markdown",
   "id": "unsigned-kingdom",
   "metadata": {},
   "source": [
    "## Load (x,y,z)-coordinates"
   ]
  },
  {
   "cell_type": "code",
   "execution_count": 13,
   "id": "flush-library",
   "metadata": {},
   "outputs": [],
   "source": [
    "raw_data = np.loadtxt('../data/dmel_data.txt').T\n",
    "xyz = raw_data[:,:3]"
   ]
  },
  {
   "cell_type": "code",
   "execution_count": 14,
   "id": "cardiovascular-brook",
   "metadata": {},
   "outputs": [],
   "source": [
    "def make_quad(X):\n",
    "    quad = np.zeros((int(X.shape[0]), int(X.shape[1] + (X.shape[1]*(X.shape[1]-1))/2)))\n",
    "    quad[:, :X.shape[1]] = np.copy(X)\n",
    "    col = 99\n",
    "    for i in range(X.shape[1]-1):\n",
    "        for j in range(i+1, X.shape[1]):\n",
    "            quad[:,col] = (X[:,i]*X[:,j])\n",
    "            col += 1\n",
    "    return quad"
   ]
  },
  {
   "cell_type": "markdown",
   "id": "usual-grade",
   "metadata": {},
   "source": [
    "## Load gene name pickle and create a dictionary"
   ]
  },
  {
   "cell_type": "code",
   "execution_count": 15,
   "id": "acquired-establishment",
   "metadata": {},
   "outputs": [],
   "source": [
    "with open('../pickles/names.pkl', 'rb') as f:\n",
    "    names = pickle.load(f)\n",
    "    \n",
    "name_dic = {}\n",
    "for (i,name) in enumerate(names):\n",
    "    name_dic[name] = i"
   ]
  },
  {
   "cell_type": "markdown",
   "id": "through-wealth",
   "metadata": {},
   "source": [
    "## Load complete data with imputated values\n",
    "This data set is not uploaded in the repository as the file size exceeds the limit. Before running the cells below, be sure to run the notebook 1. Data preparation to obtain a complete data set."
   ]
  },
  {
   "cell_type": "markdown",
   "id": "israeli-queens",
   "metadata": {},
   "source": [
    "## Simulations"
   ]
  },
  {
   "cell_type": "code",
   "execution_count": null,
   "id": "dying-sunrise",
   "metadata": {},
   "outputs": [],
   "source": [
    "data = np.loadtxt('../data/data_complete.txt')\n",
    "init = np.vstack((np.vsplit(data, 6)[0]))\n",
    "\n",
    "w = res['w'][-1]\n",
    "bias = res['bias'][-1]\n",
    "\n",
    "genes = [name_dic['h'], name_dic['eve'], name_dic['ftz'], name_dic['odd'], name_dic['prd'], name_dic['slp1']]\n",
    "fig = plt.figure(figsize=(6,4.5), dpi=300)\n",
    "fig.subplots_adjust(wspace=0.15, hspace=0.5)\n",
    "for (e_s, source) in enumerate(genes):\n",
    "    prop = 1\n",
    "    if e_s == 0:\n",
    "        true = np.vstack((np.vsplit(data, 6)[prop+1]))\n",
    "        quad = make_quad(init)\n",
    "        f = init + quad.dot(w) + bias\n",
    "        f[f<0] = 0\n",
    "        \n",
    "        for i in range(prop):\n",
    "            quad = make_quad(f)\n",
    "            f = f + quad.dot(w) + bias\n",
    "            f[f<0] = 0\n",
    "        \n",
    "        for (e,target) in enumerate(genes):\n",
    "            norm = plt.Normalize(np.min(data[:,target]), np.max(data[:,target]))\n",
    "            ax = fig.add_subplot(8,6,e+1)\n",
    "            ax.axis('off')\n",
    "            ax.scatter(xyz[:,0][xyz[:,1] > 0], xyz[:,2][xyz[:,1] > 0],\n",
    "                      c=true[:,target][xyz[:,1] > 0], s=0.5, norm=norm,\n",
    "                      cmap=plt.cm.Blues)\n",
    "            ax.text(0,120,names[target],ha='center', fontsize=10)\n",
    "            ax1 = fig.add_subplot(8,6,e+7)\n",
    "            ax1.axis('off')\n",
    "            ax1.scatter(xyz[:,0][xyz[:,1] > 0], xyz[:,2][xyz[:,1] > 0],\n",
    "                      c=f[:,target][xyz[:,1] > 0], s=0.5, norm=norm,\n",
    "                      cmap=plt.cm.Blues)\n",
    "            if e == 0:\n",
    "                ax.text(-420,0,'WT \\n Obs.',ha='left',va='center', rotation=90, fontsize=10)\n",
    "                ax1.text(-420,0,'WT'+ '\\n' + 'Sim.',ha='left',va='center', rotation=90, fontsize=10)\n",
    "\n",
    "    init_p = np.copy(init)\n",
    "    init_p[:,source] = init_p[:,source]*0\n",
    "\n",
    "    quad = make_quad(init_p)\n",
    "    f_p = init_p + quad.dot(w) + bias\n",
    "    f_p[f_p<0] = 0\n",
    "    f_p[:,source] = f_p[:,source]*0\n",
    "\n",
    "    for i in range(prop):\n",
    "        quad = make_quad(f_p)\n",
    "        f_p = f_p + quad.dot(w) + bias\n",
    "        f_p[f_p<0] = 0\n",
    "        f_p[:,source] = f_p[:,source]*0\n",
    "    \n",
    "    position=13 + e_s*6\n",
    "    for (e,target) in enumerate(genes):\n",
    "        norm = plt.Normalize(np.min(data[:,target]), np.max(data[:,target]))\n",
    "        ax = fig.add_subplot(8,6,position)\n",
    "        ax.axis('off')\n",
    "        xy = ax.scatter(xyz[:,0][xyz[:,1] > 0], xyz[:,2][xyz[:,1] > 0],\n",
    "                  c=f_p[:,target][xyz[:,1] > 0], s=0.5, norm=norm,\n",
    "                  cmap=plt.cm.Blues)\n",
    "        if e == 0:\n",
    "            ax.text(-340,0,names[source] + '-', ha='left', va='center', rotation=90, fontsize=10)\n",
    "        position += 1\n",
    "plt.show()"
   ]
  }
 ],
 "metadata": {
  "kernelspec": {
   "display_name": "Python 3",
   "language": "python",
   "name": "python3"
  },
  "language_info": {
   "codemirror_mode": {
    "name": "ipython",
    "version": 3
   },
   "file_extension": ".py",
   "mimetype": "text/x-python",
   "name": "python",
   "nbconvert_exporter": "python",
   "pygments_lexer": "ipython3",
   "version": "3.8.8"
  },
  "toc": {
   "base_numbering": 1,
   "nav_menu": {},
   "number_sections": true,
   "sideBar": true,
   "skip_h1_title": false,
   "title_cell": "Table of Contents",
   "title_sidebar": "Contents",
   "toc_cell": false,
   "toc_position": {},
   "toc_section_display": true,
   "toc_window_display": false
  }
 },
 "nbformat": 4,
 "nbformat_minor": 5
}
