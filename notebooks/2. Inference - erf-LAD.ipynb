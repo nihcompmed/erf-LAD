{
 "cells": [
  {
   "cell_type": "markdown",
   "id": "billion-webcam",
   "metadata": {},
   "source": [
    "# Linear predictors"
   ]
  },
  {
   "cell_type": "code",
   "execution_count": 1,
   "id": "initial-diagram",
   "metadata": {},
   "outputs": [],
   "source": [
    "import pickle\n",
    "import numpy as np"
   ]
  },
  {
   "cell_type": "code",
   "execution_count": 2,
   "id": "competent-peoples",
   "metadata": {},
   "outputs": [],
   "source": [
    "with open('../pickles/test_cells.pkl', 'rb') as f:\n",
    "    cells_te = pickle.load(f)"
   ]
  },
  {
   "cell_type": "code",
   "execution_count": 3,
   "id": "cubic-contractor",
   "metadata": {},
   "outputs": [],
   "source": [
    "def LAD_cv_lin_cellselect(X, y, gene_comp, kf=10):\n",
    "    kfold = KFold(n_splits=kf, shuffle=True, random_state=0)\n",
    "    \n",
    "    if len(gene_comp) > 0:\n",
    "        X_in = np.copy(X[:, comp_ind])\n",
    "    else:\n",
    "        X_in = np.copy(X)\n",
    "        \n",
    "    w_list = []\n",
    "    bias_list = []\n",
    "    \n",
    "    te = np.hstack([cells_te+(6078*i) for i in range(5)])\n",
    "    cells_tv = np.sort(np.delete(range(6078), cells_te))\n",
    "    tv = np.sort(np.hstack([cells_tv+(6078*i) for i in range(5)]))\n",
    "    \n",
    "    X_te = X_in[te]\n",
    "    y_te = y[te]\n",
    "    X_tv = X_in[tv]\n",
    "    y_tv = y[tv]\n",
    "    \n",
    "    for (cell_tr, cell_v) in (kfold.split(range(5470))):\n",
    "        v = np.hstack([cell_v+(5470*i) for i in range(5)])\n",
    "        tr = np.delete(range(27350), v)\n",
    "        X_tr, y_tr = X_tv[tr], y_tv[tr]\n",
    "        X_v, y_v = X_tv[v], y_tv[v]\n",
    "        \n",
    "        w,bias = infer_LAD_v(X_tr, y_tr, X_v, y_v)\n",
    "        w_list.append(w)\n",
    "        bias_list.append(bias)\n",
    "        \n",
    "    w = np.mean(w_list, axis=0)\n",
    "    bias = np.mean(bias_list, axis=0)\n",
    "    \n",
    "    print(w.shape, bias.shape)\n",
    "    if y.shape[1] == 27:\n",
    "        X_init = np.copy(X[:, comp_ind][te])\n",
    "    else:\n",
    "        X_init = np.copy(X[te])\n",
    "    \n",
    "    yp = X_init + bias + X_te.dot(w)\n",
    "    yp_neg = np.copy(yp)\n",
    "    yp[yp<0] = 0\n",
    "    ya = X_init + y_te\n",
    "    ferror = np.sum(np.abs(yp - ya), axis=0)/np.sum(np.abs(ya), axis=0)\n",
    "    ferror_neg = np.sum(np.abs(yp_neg - ya), axis=0)/np.sum(np.abs(ya), axis=0)\n",
    "    error1 = np.abs(yp - ya)\n",
    "    \n",
    "    dic = {\n",
    "        'yp_neg': yp_neg,\n",
    "        'yp': yp,\n",
    "        'ferror': ferror,\n",
    "        'ferror_neg': ferror_neg,\n",
    "        'error_cell_l1': error1,\n",
    "        'w': w,\n",
    "        'bias': bias\n",
    "    }\n",
    "    return dic\n",
    "\n",
    "def infer_all_LAD(X_all, y_all, y_comp):\n",
    "    res=[]\n",
    "    results = LAD_cv_lin_cellselect(X_all, y_all, gene_comp=[], kf=10)\n",
    "    res.append(results)\n",
    "#     results = LAD_cv_lin_cellselect(X_all, y_comp, gene_comp=[], kf=10)\n",
    "#     res.append(results)\n",
    "#     results = LAD_cv_lin_cellselect(X_all, y_comp, gene_comp=comp_ind, kf=10)\n",
    "#     res.append(results)\n",
    "    return res"
   ]
  },
  {
   "cell_type": "code",
   "execution_count": 4,
   "id": "accompanied-deployment",
   "metadata": {},
   "outputs": [],
   "source": [
    "data_all = np.loadtxt('../data/data_complete_tf_new.txt')\n",
    "\n",
    "all_bin = np.vsplit(data_all, 6)\n",
    "all_init = np.vstack([all_bin[i] for i in range(5)])\n",
    "all_diff = np.vstack([all_bin[i+1]-all_bin[i] for i in range(5)])\n",
    "\n",
    "complete_all = ([int(x) - 1 for x in open('../data/indices_complete.txt','r').readline().split()])\n",
    "comp_ind = list(map(int, list((np.array(complete_all)[::6]-3)/6)))\n",
    "\n",
    "data_comp = np.copy(data_all[:, comp_ind])\n",
    "comp_bin = np.vsplit(data_comp, 6)\n",
    "comp_diff = np.vstack([comp_bin[i+1] - comp_bin[i] for i in range(5)])"
   ]
  },
  {
   "cell_type": "code",
   "execution_count": 5,
   "id": "fresh-roulette",
   "metadata": {},
   "outputs": [],
   "source": [
    "# PATH = '../pickles/'\n",
    "\n",
    "# LAD_lin_cellselect = infer_all_LAD(all_init, all_diff, comp_diff)\n",
    "\n",
    "# with open(PATH + 'LAD_lin_tvt.pkl', 'wb') as f:\n",
    "#     pickle.dump(LAD_lin_cellselect, f)"
   ]
  },
  {
   "cell_type": "markdown",
   "id": "noted-ladder",
   "metadata": {},
   "source": [
    "# Linear + quadratic predictors\n",
    "The computations were carried out using swarm. The materials are in ./HPC/2. Inference - lin+quad/"
   ]
  }
 ],
 "metadata": {
  "kernelspec": {
   "display_name": "Python 3",
   "language": "python",
   "name": "python3"
  },
  "language_info": {
   "codemirror_mode": {
    "name": "ipython",
    "version": 3
   },
   "file_extension": ".py",
   "mimetype": "text/x-python",
   "name": "python",
   "nbconvert_exporter": "python",
   "pygments_lexer": "ipython3",
   "version": "3.8.8"
  },
  "toc": {
   "base_numbering": 1,
   "nav_menu": {},
   "number_sections": true,
   "sideBar": true,
   "skip_h1_title": false,
   "title_cell": "Table of Contents",
   "title_sidebar": "Contents",
   "toc_cell": false,
   "toc_position": {},
   "toc_section_display": true,
   "toc_window_display": false
  }
 },
 "nbformat": 4,
 "nbformat_minor": 5
}
