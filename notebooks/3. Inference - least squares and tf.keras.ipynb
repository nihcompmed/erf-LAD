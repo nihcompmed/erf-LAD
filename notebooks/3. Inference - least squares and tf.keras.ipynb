{
 "cells": [
  {
   "cell_type": "markdown",
   "id": "living-alfred",
   "metadata": {},
   "source": [
    "# Least Squares (Scikit-Learn)"
   ]
  },
  {
   "cell_type": "code",
   "execution_count": 1,
   "id": "transsexual-drama",
   "metadata": {},
   "outputs": [],
   "source": [
    "import pickle\n",
    "import numpy as np"
   ]
  },
  {
   "cell_type": "code",
   "execution_count": 2,
   "id": "statewide-prairie",
   "metadata": {},
   "outputs": [],
   "source": [
    "with open('../pickles/test_cells.pkl', 'rb') as f:\n",
    "    cells_te = pickle.load(f)"
   ]
  },
  {
   "cell_type": "code",
   "execution_count": 3,
   "id": "lonely-midnight",
   "metadata": {},
   "outputs": [],
   "source": [
    "def skl_cv_quad(X, y, kf=10):\n",
    "    kfold = KFold(n_splits=kf, shuffle=False)\n",
    "    \n",
    "    te = np.hstack([cells_te+(6078*i) for i in range(5)])\n",
    "    cells_tv = np.delete(range(6078), cells_te)\n",
    "    tv = np.hstack([cells_tv+(6078*i) for i in range(5)])\n",
    "    \n",
    "    quad = np.zeros((int(X.shape[0]), int(X.shape[1]+(X.shape[1]*(X.shape[1]-1))/2)))\n",
    "    quad[:,:X.shape[1]] = np.copy(X)\n",
    "    col = 99\n",
    "    for i in range(X.shape[1]-1):\n",
    "        for j in range(i+1, X.shape[1]):\n",
    "            quad[:,col] = (X[:,i]*X[:,j])\n",
    "            col += 1\n",
    "    \n",
    "    X_te = X[te]\n",
    "    y_te = y[te]\n",
    "    quad_te = quad[te]\n",
    "    quad_tv = quad[tv]\n",
    "    y_tv = y[tv]\n",
    "    \n",
    "    w_list = []\n",
    "    bias_list = []\n",
    "    for (cell_tr, cell_v) in (kfold.split(range(5470))):\n",
    "        v = np.hstack([cell_v+(5470*i) for i in range(5)])\n",
    "        tr = np.hstack([cell_tr+(5470*i) for i in range(5)])\n",
    "        quad_tr, y_tr = quad_tv[tr], y_tv[tr]\n",
    "        quad_v, y_v = quad_tv[v], y_tv[v]\n",
    "        \n",
    "        regr = linear_model.LinearRegression()\n",
    "        regr.fit(quad_tr, y_tr)\n",
    "        w_list.append(regr.coef_.T)\n",
    "        bias_list.append(regr.intercept_)\n",
    "    \n",
    "    w = np.mean(w_list, axis=0)\n",
    "    bias = np.mean(bias_list, axis=0)\n",
    "    print(w.shape, bias.shape)\n",
    "    \n",
    "    yp = X_te + bias + quad_te.dot(w)\n",
    "    yp[yp<0] = 0\n",
    "    ya = X_te + y_te\n",
    "    ferror = (np.sum(np.abs(yp - ya)**2, axis=0)/np.sum(np.abs(ya)**2, axis=0))**(1/2)\n",
    "    error1 = np.abs(yp - ya)\n",
    "    \n",
    "    dic = {\n",
    "        'ferror': ferror,\n",
    "        'error': error1,\n",
    "        'w': w,\n",
    "        'bias': bias\n",
    "    }\n",
    "    return dic"
   ]
  },
  {
   "cell_type": "code",
   "execution_count": 4,
   "id": "powered-timber",
   "metadata": {},
   "outputs": [],
   "source": [
    "data_all = np.loadtxt('../data/data_complete_tf_new.txt')\n",
    "\n",
    "all_bin = np.vsplit(data_all, 6)\n",
    "all_init = np.vstack([all_bin[i] for i in range(5)])\n",
    "all_diff = np.vstack([all_bin[i+1]-all_bin[i] for i in range(5)])"
   ]
  },
  {
   "cell_type": "code",
   "execution_count": 5,
   "id": "valued-newcastle",
   "metadata": {},
   "outputs": [],
   "source": [
    "# PATH = '../pickles/'\n",
    "\n",
    "# result = skl_cv_quad(all_init, all_diff, kf=10)\n",
    "\n",
    "# with open(PATH + 'skl_(99,99)_tvt.pkl', 'wb') as f:\n",
    "#     pickle.dump(result, f)"
   ]
  },
  {
   "cell_type": "markdown",
   "id": "faced-madagascar",
   "metadata": {},
   "source": [
    "# Neural Networks (tf.keras)\n",
    "The computations were carried out using swarm. The materials are in ./HPC/3. Inference - NN/"
   ]
  },
  {
   "cell_type": "code",
   "execution_count": null,
   "id": "stainless-skating",
   "metadata": {},
   "outputs": [],
   "source": []
  }
 ],
 "metadata": {
  "kernelspec": {
   "display_name": "Python 3",
   "language": "python",
   "name": "python3"
  },
  "language_info": {
   "codemirror_mode": {
    "name": "ipython",
    "version": 3
   },
   "file_extension": ".py",
   "mimetype": "text/x-python",
   "name": "python",
   "nbconvert_exporter": "python",
   "pygments_lexer": "ipython3",
   "version": "3.8.8"
  },
  "toc": {
   "base_numbering": 1,
   "nav_menu": {},
   "number_sections": true,
   "sideBar": true,
   "skip_h1_title": false,
   "title_cell": "Table of Contents",
   "title_sidebar": "Contents",
   "toc_cell": false,
   "toc_position": {},
   "toc_section_display": true,
   "toc_window_display": false
  }
 },
 "nbformat": 4,
 "nbformat_minor": 5
}
